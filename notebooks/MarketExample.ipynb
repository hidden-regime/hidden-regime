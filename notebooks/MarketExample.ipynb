{
 "cells": [
  {
   "cell_type": "code",
   "execution_count": 1,
   "id": "410a9d3e-c5fd-476c-8d25-a77ccea21100",
   "metadata": {},
   "outputs": [
    {
     "ename": "NameError",
     "evalue": "name 'List' is not defined",
     "output_type": "error",
     "traceback": [
      "\u001b[31m---------------------------------------------------------------------------\u001b[39m",
      "\u001b[31mNameError\u001b[39m                                 Traceback (most recent call last)",
      "\u001b[36mCell\u001b[39m\u001b[36m \u001b[39m\u001b[32mIn[1]\u001b[39m\u001b[32m, line 14\u001b[39m\n\u001b[32m     12\u001b[39m \u001b[38;5;28;01mimport\u001b[39;00m\u001b[38;5;250m \u001b[39m\u001b[34;01msys\u001b[39;00m\n\u001b[32m     13\u001b[39m sys.path.append(\u001b[33m'\u001b[39m\u001b[33m../../\u001b[39m\u001b[33m'\u001b[39m)\n\u001b[32m---> \u001b[39m\u001b[32m14\u001b[39m \u001b[38;5;28;01mfrom\u001b[39;00m\u001b[38;5;250m \u001b[39m\u001b[34;01mhidden_regime\u001b[39;00m\u001b[34;01m.\u001b[39;00m\u001b[34;01mmodels\u001b[39;00m\u001b[34;01m.\u001b[39;00m\u001b[34;01mbase_hmm\u001b[39;00m\u001b[38;5;250m \u001b[39m\u001b[38;5;28;01mimport\u001b[39;00m HiddenMarkovModel\n\u001b[32m     15\u001b[39m \u001b[38;5;28;01mfrom\u001b[39;00m\u001b[38;5;250m \u001b[39m\u001b[34;01mhidden_regime\u001b[39;00m\u001b[34;01m.\u001b[39;00m\u001b[34;01mmodels\u001b[39;00m\u001b[34;01m.\u001b[39;00m\u001b[34;01monline_hmm\u001b[39;00m\u001b[38;5;250m \u001b[39m\u001b[38;5;28;01mimport\u001b[39;00m OnlineHMM, OnlineHMMConfig\n\u001b[32m     16\u001b[39m \u001b[38;5;28;01mfrom\u001b[39;00m\u001b[38;5;250m \u001b[39m\u001b[34;01mhidden_regime\u001b[39;00m\u001b[34;01m.\u001b[39;00m\u001b[34;01mdata\u001b[39;00m\u001b[34;01m.\u001b[39;00m\u001b[34;01mloader\u001b[39;00m\u001b[38;5;250m \u001b[39m\u001b[38;5;28;01mimport\u001b[39;00m DataLoader\n",
      "\u001b[36mFile \u001b[39m\u001b[32m/mnt/c/Workspace/hidden-regime/hidden_regime/__init__.py:59\u001b[39m\n\u001b[32m     57\u001b[39m \u001b[38;5;28;01mfrom\u001b[39;00m\u001b[38;5;250m \u001b[39m\u001b[34;01m.\u001b[39;00m\u001b[34;01mindicators\u001b[39;00m\u001b[38;5;250m \u001b[39m\u001b[38;5;28;01mimport\u001b[39;00m calculate_all_indicators, compare_hmm_vs_indicators\n\u001b[32m     58\u001b[39m \u001b[38;5;28;01mfrom\u001b[39;00m\u001b[38;5;250m \u001b[39m\u001b[34;01m.\u001b[39;00m\u001b[34;01mhistorical\u001b[39;00m\u001b[38;5;250m \u001b[39m\u001b[38;5;28;01mimport\u001b[39;00m load_historical_period, validate_historical_detection\n\u001b[32m---> \u001b[39m\u001b[32m59\u001b[39m \u001b[38;5;28;01mfrom\u001b[39;00m\u001b[38;5;250m \u001b[39m\u001b[34;01m.\u001b[39;00m\u001b[34;01mcontent\u001b[39;00m\u001b[38;5;250m \u001b[39m\u001b[38;5;28;01mimport\u001b[39;00m (\n\u001b[32m     60\u001b[39m     generate_comparative_report,\n\u001b[32m     61\u001b[39m     generate_historical_analysis,\n\u001b[32m     62\u001b[39m     generate_market_report,\n\u001b[32m     63\u001b[39m )\n\u001b[32m     65\u001b[39m \u001b[38;5;66;03m# Main API exports\u001b[39;00m\n\u001b[32m     66\u001b[39m __all__ = [\n\u001b[32m     67\u001b[39m     \u001b[38;5;66;03m# Data pipeline\u001b[39;00m\n\u001b[32m     68\u001b[39m     \u001b[33m\"\u001b[39m\u001b[33mDataLoader\u001b[39m\u001b[33m\"\u001b[39m,\n\u001b[32m   (...)\u001b[39m\u001b[32m    103\u001b[39m     \u001b[33m\"\u001b[39m\u001b[33mgenerate_comparative_report\u001b[39m\u001b[33m\"\u001b[39m,\n\u001b[32m    104\u001b[39m ]\n",
      "\u001b[36mFile \u001b[39m\u001b[32m/mnt/c/Workspace/hidden-regime/hidden_regime/content/__init__.py:9\u001b[39m\n\u001b[32m      1\u001b[39m \u001b[33;03m\"\"\"\u001b[39;00m\n\u001b[32m      2\u001b[39m \u001b[33;03mBlog Content Generation Module\u001b[39;00m\n\u001b[32m      3\u001b[39m \n\u001b[32m   (...)\u001b[39m\u001b[32m      6\u001b[39m \u001b[33;03minto publication-ready articles and visualizations.\u001b[39;00m\n\u001b[32m      7\u001b[39m \u001b[33;03m\"\"\"\u001b[39;00m\n\u001b[32m----> \u001b[39m\u001b[32m9\u001b[39m \u001b[38;5;28;01mfrom\u001b[39;00m\u001b[38;5;250m \u001b[39m\u001b[34;01m.\u001b[39;00m\u001b[34;01mgenerators\u001b[39;00m\u001b[38;5;250m \u001b[39m\u001b[38;5;28;01mimport\u001b[39;00m (\n\u001b[32m     10\u001b[39m     generate_comparative_report,\n\u001b[32m     11\u001b[39m     generate_historical_analysis,\n\u001b[32m     12\u001b[39m     generate_market_report,\n\u001b[32m     13\u001b[39m     generate_regime_update,\n\u001b[32m     14\u001b[39m )\n\u001b[32m     15\u001b[39m \u001b[38;5;28;01mfrom\u001b[39;00m\u001b[38;5;250m \u001b[39m\u001b[34;01m.\u001b[39;00m\u001b[34;01mtemplates\u001b[39;00m\u001b[38;5;250m \u001b[39m\u001b[38;5;28;01mimport\u001b[39;00m (\n\u001b[32m     16\u001b[39m     ANALYSIS_TEMPLATES,\n\u001b[32m     17\u001b[39m     format_analysis_for_blog,\n\u001b[32m     18\u001b[39m     get_template,\n\u001b[32m     19\u001b[39m )\n\u001b[32m     21\u001b[39m __all__ = [\n\u001b[32m     22\u001b[39m     \u001b[38;5;66;03m# Content generators\u001b[39;00m\n\u001b[32m     23\u001b[39m     \u001b[33m\"\u001b[39m\u001b[33mgenerate_market_report\u001b[39m\u001b[33m\"\u001b[39m,\n\u001b[32m   (...)\u001b[39m\u001b[32m     30\u001b[39m     \u001b[33m\"\u001b[39m\u001b[33mANALYSIS_TEMPLATES\u001b[39m\u001b[33m\"\u001b[39m,\n\u001b[32m     31\u001b[39m ]\n",
      "\u001b[36mFile \u001b[39m\u001b[32m/mnt/c/Workspace/hidden-regime/hidden_regime/content/generators.py:22\u001b[39m\n\u001b[32m     20\u001b[39m \u001b[38;5;28;01mfrom\u001b[39;00m\u001b[38;5;250m \u001b[39m\u001b[34;01m.\u001b[39;00m\u001b[34;01m.\u001b[39;00m\u001b[34;01mmodels\u001b[39;00m\u001b[38;5;250m \u001b[39m\u001b[38;5;28;01mimport\u001b[39;00m HiddenMarkovModel, HMMConfig\n\u001b[32m     21\u001b[39m \u001b[38;5;28;01mfrom\u001b[39;00m\u001b[38;5;250m \u001b[39m\u001b[34;01m.\u001b[39;00m\u001b[34;01m.\u001b[39;00m\u001b[34;01mvisualization\u001b[39;00m\u001b[38;5;250m \u001b[39m\u001b[38;5;28;01mimport\u001b[39;00m plot_returns_with_regimes, setup_financial_plot_style\n\u001b[32m---> \u001b[39m\u001b[32m22\u001b[39m \u001b[38;5;28;01mfrom\u001b[39;00m\u001b[38;5;250m \u001b[39m\u001b[34;01m.\u001b[39;00m\u001b[34;01mtemplates\u001b[39;00m\u001b[38;5;250m \u001b[39m\u001b[38;5;28;01mimport\u001b[39;00m get_template, format_analysis_for_blog\n\u001b[32m     25\u001b[39m \u001b[38;5;28;01mdef\u001b[39;00m\u001b[38;5;250m \u001b[39m\u001b[34mgenerate_market_report\u001b[39m(\n\u001b[32m     26\u001b[39m     ticker: \u001b[38;5;28mstr\u001b[39m,\n\u001b[32m     27\u001b[39m     period_days: \u001b[38;5;28mint\u001b[39m = \u001b[32m252\u001b[39m,\n\u001b[32m   (...)\u001b[39m\u001b[32m     31\u001b[39m     hmm_config: Optional[HMMConfig] = \u001b[38;5;28;01mNone\u001b[39;00m\n\u001b[32m     32\u001b[39m ) -> Dict:\n\u001b[32m     33\u001b[39m \u001b[38;5;250m    \u001b[39m\u001b[33;03m\"\"\"\u001b[39;00m\n\u001b[32m     34\u001b[39m \u001b[33;03m    Generate comprehensive market regime report for a single ticker.\u001b[39;00m\n\u001b[32m     35\u001b[39m \u001b[33;03m    \u001b[39;00m\n\u001b[32m   (...)\u001b[39m\u001b[32m     53\u001b[39m \u001b[33;03m        >>> # Files saved: blog_content/AAPL_regime_report_2024-12-09.md\u001b[39;00m\n\u001b[32m     54\u001b[39m \u001b[33;03m    \"\"\"\u001b[39;00m\n",
      "\u001b[36mFile \u001b[39m\u001b[32m/mnt/c/Workspace/hidden-regime/hidden_regime/content/templates.py:489\u001b[39m\n\u001b[32m    482\u001b[39m         \u001b[38;5;28;01mreturn\u001b[39;00m post\n\u001b[32m    484\u001b[39m     \u001b[38;5;28;01mreturn\u001b[39;00m \u001b[33m\"\u001b[39m\u001b[33mSharing some Hidden Markov Model results for market regime detection. Interesting approach vs traditional TA!\u001b[39m\u001b[33m\"\u001b[39m\n\u001b[32m    487\u001b[39m \u001b[38;5;28;01mdef\u001b[39;00m\u001b[38;5;250m \u001b[39m\u001b[34mcreate_newsletter_template\u001b[39m(\n\u001b[32m    488\u001b[39m     featured_analysis: Dict,\n\u001b[32m--> \u001b[39m\u001b[32m489\u001b[39m     market_updates: \u001b[43mList\u001b[49m[Dict],\n\u001b[32m    490\u001b[39m     educational_content: \u001b[38;5;28mstr\u001b[39m\n\u001b[32m    491\u001b[39m ) -> \u001b[38;5;28mstr\u001b[39m:\n\u001b[32m    492\u001b[39m \u001b[38;5;250m    \u001b[39m\u001b[33;03m\"\"\"\u001b[39;00m\n\u001b[32m    493\u001b[39m \u001b[33;03m    Create newsletter template combining multiple analysis pieces.\u001b[39;00m\n\u001b[32m    494\u001b[39m \u001b[33;03m    \u001b[39;00m\n\u001b[32m   (...)\u001b[39m\u001b[32m    501\u001b[39m \u001b[33;03m        Complete newsletter content\u001b[39;00m\n\u001b[32m    502\u001b[39m \u001b[33;03m    \"\"\"\u001b[39;00m\n\u001b[32m    503\u001b[39m     newsletter_date = datetime.now().strftime(\u001b[33m'\u001b[39m\u001b[33m%\u001b[39m\u001b[33mB \u001b[39m\u001b[38;5;132;01m%d\u001b[39;00m\u001b[33m, \u001b[39m\u001b[33m%\u001b[39m\u001b[33mY\u001b[39m\u001b[33m'\u001b[39m)\n",
      "\u001b[31mNameError\u001b[39m: name 'List' is not defined"
     ]
    }
   ],
   "source": [
    "# Import necessary libraries\n",
    "import numpy as np\n",
    "import pandas as pd\n",
    "import matplotlib.pyplot as plt\n",
    "import seaborn as sns\n",
    "import yfinance as yf\n",
    "from datetime import datetime, timedelta\n",
    "import warnings\n",
    "warnings.filterwarnings('ignore')\n",
    "\n",
    "# Import our HMM models\n",
    "import sys\n",
    "sys.path.append('../../')\n",
    "from hidden_regime.models.base_hmm import HiddenMarkovModel\n",
    "from hidden_regime.models.online_hmm import OnlineHMM, OnlineHMMConfig\n",
    "from hidden_regime.data.loader import DataLoader\n",
    "\n",
    "# Set up plotting style\n",
    "plt.style.use('seaborn-v0_8')\n",
    "sns.set_palette(\"husl\")\n",
    "plt.rcParams['figure.figsize'] = (12, 8)\n"
   ]
  },
  {
   "cell_type": "code",
   "execution_count": null,
   "id": "de553543-6155-43c4-a359-4a1a5befa937",
   "metadata": {},
   "outputs": [],
   "source": []
  }
 ],
 "metadata": {
  "kernelspec": {
   "display_name": "Python 3 (ipykernel)",
   "language": "python",
   "name": "python3"
  },
  "language_info": {
   "codemirror_mode": {
    "name": "ipython",
    "version": 3
   },
   "file_extension": ".py",
   "mimetype": "text/x-python",
   "name": "python",
   "nbconvert_exporter": "python",
   "pygments_lexer": "ipython3",
   "version": "3.12.3"
  }
 },
 "nbformat": 4,
 "nbformat_minor": 5
}
